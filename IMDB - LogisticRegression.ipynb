{
 "cells": [
  {
   "cell_type": "markdown",
   "metadata": {},
   "source": [
    "### Equipe: Cássio Medeiros e Rafael Bertoldi Rossi "
   ]
  },
  {
   "cell_type": "code",
   "execution_count": 200,
   "metadata": {
    "colab": {
     "base_uri": "https://localhost:8080/"
    },
    "id": "enC6R2IMC90u",
    "outputId": "c0b0b80b-e693-4a97-d4ca-395fc108463b"
   },
   "outputs": [],
   "source": [
    "from typing import List, Tuple\n",
    "\n",
    "import seaborn as sns\n",
    "import matplotlib.pyplot as plt\n",
    "%matplotlib inline\n",
    "\n",
    "import pandas as pd\n",
    "import numpy as np\n",
    "from itertools import chain\n",
    "import nltk\n",
    "from nltk.corpus import stopwords\n",
    "from nltk.tokenize import word_tokenize\n",
    "from nltk.stem import SnowballStemmer\n",
    "from nltk.stem import WordNetLemmatizer\n",
    "from nltk.sentiment import SentimentIntensityAnalyzer\n",
    "from string import punctuation\n",
    "\n",
    "from sklearn.preprocessing import MaxAbsScaler\n",
    "from sklearn.feature_extraction.text import CountVectorizer\n",
    "from sklearn.model_selection import train_test_split\n",
    "from sklearn.linear_model import LogisticRegression\n",
    "from sklearn.metrics import accuracy_score\n",
    "from sklearn.metrics import confusion_matrix\n",
    "from sklearn.metrics import classification_report\n",
    "from sklearn.model_selection import GridSearchCV\n",
    "\n",
    "import tqdm"
   ]
  },
  {
   "cell_type": "markdown",
   "metadata": {
    "id": "rdMvvaoOC900"
   },
   "source": [
    "### Load data"
   ]
  },
  {
   "cell_type": "code",
   "execution_count": 118,
   "metadata": {
    "colab": {
     "base_uri": "https://localhost:8080/"
    },
    "id": "cndT6gbBC900",
    "outputId": "23e40a0e-eaba-4689-b6dc-4b20e3bc5df6"
   },
   "outputs": [
    {
     "name": "stderr",
     "output_type": "stream",
     "text": [
      "100%|████████████████████████████████████████████████████████████████████████| 50000/50000 [00:00<00:00, 297893.45it/s]\n"
     ]
    }
   ],
   "source": [
    "base = pd.read_csv('imdb.csv', sep=';')['review,sentiment']\n",
    "\n",
    "data: List[Tuple[str, str]] = []\n",
    "    \n",
    "sentiments = ['positive', 'negative']\n",
    "    \n",
    "for text in tqdm.tqdm(base):\n",
    "    \n",
    "    words = text.split(',')\n",
    "    review = ''.join(words[:-1])\n",
    "    sentiment = words[-1]\n",
    "    if sentiment in sentiments:\n",
    "        data.append((review, sentiment))"
   ]
  },
  {
   "cell_type": "code",
   "execution_count": 119,
   "metadata": {},
   "outputs": [],
   "source": [
    "mapper = {'negative': 0, 'positive': 1}\n",
    "labels = np.array([mapper[sentiment] for _, sentiment in data])\n",
    "sentiments = np.array([sentiment for _, sentiment in data])"
   ]
  },
  {
   "cell_type": "code",
   "execution_count": 120,
   "metadata": {},
   "outputs": [
    {
     "data": {
      "image/png": "[encoded data removed]",
      "text/plain": [
       "<Figure size 720x432 with 1 Axes>"
      ]
     },
     "metadata": {
      "needs_background": "light"
     },
     "output_type": "display_data"
    }
   ],
   "source": [
    "df_label = pd.DataFrame(list(zip(sentiments, labels)), columns=['sentiment', 'label'])\n",
    "\n",
    "fig, ax = plt.subplots(1, 1)\n",
    "df_label.groupby('sentiment').size().plot.bar(ax=ax, figsize=(10, 6))\n",
    "\n",
    "ax.set_title('Sentiment analysis')\n",
    "plt.show()"
   ]
  },
  {
   "cell_type": "markdown",
   "metadata": {
    "id": "mLV6cmOIC901"
   },
   "source": [
    "### Tokenization"
   ]
  },
  {
   "cell_type": "code",
   "execution_count": 96,
   "metadata": {
    "colab": {
     "base_uri": "https://localhost:8080/"
    },
    "id": "CQ6Smb6yC902",
    "outputId": "6ffcc347-f6b7-4014-f764-780c46662b38"
   },
   "outputs": [],
   "source": [
    "def tokenization(\n",
    "        data: List[Tuple[str, str]], \n",
    "        language: str\n",
    "    ) -> List[list]:\n",
    "\n",
    "    other_stopwords = [\"1\", \"Oz\", \"'ll\", \"me\", \"br\", \"the\", '/', '<', '>', \n",
    "                       'br','..', '...', '....', 'i', \"n't\", '.', 'it', 't',\n",
    "                       \"''\", \"'s\", \"do\"]\n",
    "\n",
    "    all_stopwords = set(stopwords.words(language) + list(punctuation) + other_stopwords)\n",
    "    tokenizes: List[list] = []\n",
    "\n",
    "\n",
    "    for i, (review, _) in tqdm.tqdm(enumerate(data)):\n",
    "\n",
    "        for punc in punctuation:\n",
    "            review = review.replace(punc, '')\n",
    "\n",
    "        text_tokens = word_tokenize(str.lower(review))\n",
    "        token_without_stopword = [word for word in text_tokens if word not in all_stopwords]\n",
    "        token_without_stopword = [word for word in token_without_stopword if not str.isnumeric(word)]\n",
    "        token_without_stopword = [word for word in token_without_stopword if len(word) > 2]\n",
    "        token_without_stopword = [word for word in token_without_stopword if str.isalpha(word)]\n",
    "\n",
    "\n",
    "        tokenizes.append((token_without_stopword))\n",
    "        \n",
    "    return tokenizes"
   ]
  },
  {
   "cell_type": "markdown",
   "metadata": {
    "id": "-6mIaxVfC902"
   },
   "source": [
    "### Lemmatizer"
   ]
  },
  {
   "cell_type": "code",
   "execution_count": 87,
   "metadata": {
    "colab": {
     "base_uri": "https://localhost:8080/"
    },
    "id": "gDaqwkg5C903",
    "outputId": "3ee487e5-4e49-4324-8ac1-12e5a3cc316b"
   },
   "outputs": [],
   "source": [
    "def lemmatizer(\n",
    "        data: List[list]\n",
    "    ) -> List[list]:\n",
    "    \n",
    "    lemmatizer = WordNetLemmatizer()\n",
    "\n",
    "    lemmatizer_list: List[list] = []\n",
    "\n",
    "    for tokens in tqdm.tqdm(data):\n",
    "\n",
    "        all_tokens = [lemmatizer.lemmatize(token, pos='v') for token in tokens]\n",
    "        lemmatizer_list.append(all_tokens)\n",
    "        \n",
    "    return lemmatizer_list"
   ]
  },
  {
   "cell_type": "markdown",
   "metadata": {
    "id": "Yc5PnOsIC904"
   },
   "source": [
    "### Stemming "
   ]
  },
  {
   "cell_type": "code",
   "execution_count": 102,
   "metadata": {
    "colab": {
     "base_uri": "https://localhost:8080/"
    },
    "id": "7J-4aJjdC904",
    "outputId": "a88ab5f5-426a-406b-b8be-325754afc7ba"
   },
   "outputs": [],
   "source": [
    "def stemming(\n",
    "        data: List[list], \n",
    "        language: str\n",
    "    ) -> List[str]:\n",
    "    \n",
    "    stemmer = SnowballStemmer(language)\n",
    "    stemming_list: List[str] = []\n",
    "\n",
    "    for stemming in tqdm.tqdm(data):\n",
    "        all_tokens = [stemmer.stem(token) for token in stemming]\n",
    "        sentence = ' '.join(all_tokens)\n",
    "        stemming_list.append(sentence)\n",
    "        \n",
    "    return stemming_list"
   ]
  },
  {
   "cell_type": "markdown",
   "metadata": {},
   "source": [
    "### Counting vectorizer"
   ]
  },
  {
   "cell_type": "code",
   "execution_count": 98,
   "metadata": {},
   "outputs": [],
   "source": [
    "def counting_vectorizer(\n",
    "        data: List[str]\n",
    "    ) -> List[str]:\n",
    "    \n",
    "    vectorizer = CountVectorizer()\n",
    "    x_data = vectorizer.fit_transform(data)\n",
    "    \n",
    "    return x_data"
   ]
  },
  {
   "cell_type": "markdown",
   "metadata": {},
   "source": [
    "### Normalizing"
   ]
  },
  {
   "cell_type": "code",
   "execution_count": 201,
   "metadata": {},
   "outputs": [],
   "source": [
    "def normalizing(data: np.array):\n",
    "    \n",
    "    scaler = MaxAbsScaler()\n",
    "    x_data = scaler.fit_transform(data)\n",
    "    \n",
    "    return x_data"
   ]
  },
  {
   "cell_type": "markdown",
   "metadata": {},
   "source": [
    "### Preprocessing"
   ]
  },
  {
   "cell_type": "code",
   "execution_count": 215,
   "metadata": {},
   "outputs": [],
   "source": [
    "def preprocessing(\n",
    "        data: List[Tuple[str, str]], \n",
    "        language: str='english'\n",
    "    ) -> np.array:\n",
    "    \n",
    "    tokens = tokenization(data, language)\n",
    "    lemmatize = lemmatizer(tokens)\n",
    "    stemmer = stemming(lemmatize, language)\n",
    "    x_data = counting_vectorizer(stemmer)\n",
    "    normalize = normalizing(x_data)\n",
    "    \n",
    "    return x_data"
   ]
  },
  {
   "cell_type": "code",
   "execution_count": 203,
   "metadata": {},
   "outputs": [
    {
     "name": "stderr",
     "output_type": "stream",
     "text": [
      "49955it [00:44, 1116.71it/s]\n",
      "100%|██████████████████████████████████████████████████████████████████████████| 49955/49955 [00:24<00:00, 2031.27it/s]\n",
      "100%|███████████████████████████████████████████████████████████████████████████| 49955/49955 [01:21<00:00, 611.76it/s]\n"
     ]
    },
    {
     "name": "stdout",
     "output_type": "stream",
     "text": [
      "Wall time: 2min 36s\n"
     ]
    }
   ],
   "source": [
    "%%time\n",
    "\n",
    "x_data = preprocessing(data)"
   ]
  },
  {
   "cell_type": "markdown",
   "metadata": {
    "id": "ZcM3whlEhu6j"
   },
   "source": [
    "### Train test split"
   ]
  },
  {
   "cell_type": "code",
   "execution_count": 245,
   "metadata": {
    "id": "yz50-PtfJZfN"
   },
   "outputs": [],
   "source": [
    "x_train, x_test, y_train, y_test = train_test_split(x_data[:49000], labels[:49000], test_size=0.2)"
   ]
  },
  {
   "cell_type": "markdown",
   "metadata": {
    "id": "XpV49EOWC908"
   },
   "source": [
    "### Modeling"
   ]
  },
  {
   "cell_type": "code",
   "execution_count": 191,
   "metadata": {},
   "outputs": [
    {
     "name": "stdout",
     "output_type": "stream",
     "text": [
      "Wall time: 1min 9s\n"
     ]
    },
    {
     "data": {
      "text/plain": [
       "GridSearchCV(cv=5, estimator=LogisticRegression(),\n",
       "             param_grid={'C': array([1.00000000e-03, 3.16227766e-02, 1.00000000e+00, 3.16227766e+01,\n",
       "       1.00000000e+03]),\n",
       "                         'penalty': ['l1', 'l2'], 'solver': ['liblinear']})"
      ]
     },
     "execution_count": 191,
     "metadata": {},
     "output_type": "execute_result"
    }
   ],
   "source": [
    "%%time\n",
    "\n",
    "grid={\n",
    "    \"C\": np.logspace(-3, 3, 5),\n",
    "    \"penalty\": [\"l1\",\"l2\"],\n",
    "    \"solver\": ['liblinear']\n",
    "}\n",
    "\n",
    "model_cv = LogisticRegression()\n",
    "model_cv = GridSearchCV(model_cv, grid, cv=5)\n",
    "\n",
    "model_cv.fit(x_train,y_train)\n",
    "print(model_cv.best_params_)"
   ]
  },
  {
   "cell_type": "code",
   "execution_count": 195,
   "metadata": {},
   "outputs": [
    {
     "name": "stdout",
     "output_type": "stream",
     "text": [
      "Wall time: 1.59 s\n"
     ]
    }
   ],
   "source": [
    "%%time\n",
    "\n",
    "model = LogisticRegression(**model_cv.best_params_)\n",
    "model.fit(x_train, y_train)\n",
    "yhat = model.predict(x_test)"
   ]
  },
  {
   "cell_type": "markdown",
   "metadata": {},
   "source": [
    "### Evaluation"
   ]
  },
  {
   "cell_type": "code",
   "execution_count": 196,
   "metadata": {},
   "outputs": [
    {
     "name": "stdout",
     "output_type": "stream",
     "text": [
      "              precision    recall  f1-score   support\n",
      "\n",
      "           0       0.90      0.89      0.89      4992\n",
      "           1       0.89      0.90      0.89      4999\n",
      "\n",
      "    accuracy                           0.89      9991\n",
      "   macro avg       0.89      0.89      0.89      9991\n",
      "weighted avg       0.89      0.89      0.89      9991\n",
      "\n"
     ]
    },
    {
     "data": {
      "text/plain": [
       "<matplotlib.axes._subplots.AxesSubplot at 0x1e380b87fd0>"
      ]
     },
     "execution_count": 196,
     "metadata": {},
     "output_type": "execute_result"
    },
    {
     "data": {
      "image/png": "[encoded data removed]",
      "text/plain": [
       "<Figure size 432x288 with 2 Axes>"
      ]
     },
     "metadata": {
      "needs_background": "light"
     },
     "output_type": "display_data"
    }
   ],
   "source": [
    "cf_matrix = confusion_matrix(y_test, yhat)\n",
    "print(classification_report(y_test, yhat))\n",
    "sns.heatmap(cf_matrix/cf_matrix.sum(), annot=True, fmt='.2%', cmap='Blues')\n",
    "\n"
   ]
  },
  {
   "cell_type": "markdown",
   "metadata": {},
   "source": [
    "## Comparing"
   ]
  },
  {
   "cell_type": "code",
   "execution_count": 286,
   "metadata": {},
   "outputs": [],
   "source": [
    "def predict_sia(data: List[str]):\n",
    "    \n",
    "    predictions: int = []\n",
    "        \n",
    "    sia = SentimentIntensityAnalyzer()\n",
    "        \n",
    "    for text in data:\n",
    "        \n",
    "        value = sia.polarity_scores(text)\n",
    "        value.pop(\"compound\")\n",
    "        predicted_value = np.argmax([val for val in value.values()])\n",
    "        predictions.append(1 if predicted_value > 1 else predicted_value)\n",
    "    \n",
    "    return predictions"
   ]
  },
  {
   "cell_type": "code",
   "execution_count": 287,
   "metadata": {},
   "outputs": [
    {
     "data": {
      "text/plain": [
       "955"
      ]
     },
     "execution_count": 287,
     "metadata": {},
     "output_type": "execute_result"
    }
   ],
   "source": [
    "size_validation = len(data) - len(y_train) - len(y_test)\n",
    "size_validation"
   ]
  },
  {
   "cell_type": "code",
   "execution_count": 288,
   "metadata": {},
   "outputs": [],
   "source": [
    "x_validation_normalize = x_data[-size_validation:]\n",
    "x_validation_sia = [text for text, _ in data[-size_validation:]]\n",
    "y_validation = labels[-size_validation:]"
   ]
  },
  {
   "cell_type": "markdown",
   "metadata": {},
   "source": [
    "#### Logistic Regression"
   ]
  },
  {
   "cell_type": "code",
   "execution_count": 289,
   "metadata": {},
   "outputs": [
    {
     "name": "stdout",
     "output_type": "stream",
     "text": [
      "Accuracy: 0.87\n"
     ]
    }
   ],
   "source": [
    "y_hat_model = model.predict(x_validation_normalize)\n",
    "\n",
    "print(f'Accuracy: {accuracy_score(y_validation, y_hat_model):.2f}')"
   ]
  },
  {
   "cell_type": "markdown",
   "metadata": {},
   "source": [
    "#### Sentiment Intensity Analyzer (NLTK)"
   ]
  },
  {
   "cell_type": "code",
   "execution_count": 290,
   "metadata": {},
   "outputs": [
    {
     "name": "stdout",
     "output_type": "stream",
     "text": [
      "Accuracy: 0.49\n"
     ]
    }
   ],
   "source": [
    "y_hat_sia = predict_sia(x_validation_sia)\n",
    "\n",
    "print(f'Accuracy: {accuracy_score(y_validation, y_hat_sia):.2f}')"
   ]
  }
 ],
 "metadata": {
  "colab": {
   "name": "IMDB.ipynb",
   "provenance": [],
   "toc_visible": true
  },
  "kernelspec": {
   "display_name": "Python 3",
   "language": "python",
   "name": "python3"
  },
  "language_info": {
   "codemirror_mode": {
    "name": "ipython",
    "version": 3
   },
   "file_extension": ".py",
   "mimetype": "text/x-python",
   "name": "python",
   "nbconvert_exporter": "python",
   "pygments_lexer": "ipython3",
   "version": "3.7.4"
  }
 },
 "nbformat": 4,
 "nbformat_minor": 1
}
